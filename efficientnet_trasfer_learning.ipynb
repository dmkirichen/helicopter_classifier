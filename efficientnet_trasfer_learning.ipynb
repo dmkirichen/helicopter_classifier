{
 "cells": [
  {
   "cell_type": "code",
   "execution_count": 40,
   "metadata": {},
   "outputs": [],
   "source": [
    "from tensorflow.keras import models\n",
    "from tensorflow.keras import layers\n",
    "from tensorflow.keras import optimizers\n",
    "import os\n",
    "import glob\n",
    "import shutil\n",
    "import sys\n",
    "import numpy as np\n",
    "from skimage.io import imread\n",
    "import matplotlib.pyplot as plt\n",
    "from IPython.display import Image\n",
    "from sklearn.model_selection import train_test_split\n",
    "%matplotlib inline"
   ]
  },
  {
   "cell_type": "code",
   "execution_count": 2,
   "metadata": {},
   "outputs": [],
   "source": [
    "batch_size = 48\n",
    "\n",
    "width = 150\n",
    "height = 150\n",
    "epochs = 20\n",
    "NUM_TRAIN = 2000\n",
    "NUM_TEST = 1000\n",
    "dropout_rate = 0.2\n",
    "input_shape = (height, width, 3)"
   ]
  },
  {
   "cell_type": "code",
   "execution_count": 3,
   "metadata": {},
   "outputs": [
    {
     "name": "stderr",
     "output_type": "stream",
     "text": [
      "Using TensorFlow backend.\n"
     ]
    }
   ],
   "source": [
    "# Options: EfficientNetB0, EfficientNetB1, EfficientNetB2, EfficientNetB3\n",
    "# Higher the number, the more complex the model is.\n",
    "from efficientnet_keras_transfer_learning.efficientnet import EfficientNetB0 as Net\n",
    "from efficientnet_keras_transfer_learning.efficientnet import center_crop_and_resize, preprocess_input"
   ]
  },
  {
   "cell_type": "code",
   "execution_count": 4,
   "metadata": {},
   "outputs": [],
   "source": [
    "# loading pretrained conv base model\n",
    "conv_base = Net(weights='imagenet', include_top=False, input_shape=input_shape)"
   ]
  },
  {
   "cell_type": "code",
   "execution_count": 26,
   "metadata": {},
   "outputs": [
    {
     "name": "stdout",
     "output_type": "stream",
     "text": [
      "ansat  ka-226t\tka-27  ka-31  ka-32a11bc  ka-52  mi-24\tmi-26t\tmi-28n\tmi-8\r\n"
     ]
    }
   ],
   "source": [
    "!ls data"
   ]
  },
  {
   "cell_type": "code",
   "execution_count": 38,
   "metadata": {},
   "outputs": [
    {
     "name": "stdout",
     "output_type": "stream",
     "text": [
      "shapes for every class: (30, 30, 30, 30, 30, 30, 30, 30, 30, 30)\n"
     ]
    }
   ],
   "source": [
    "# The path to the directory where the original\n",
    "# dataset was uncompressed\n",
    "original_dataset_dir = './data/'\n",
    "\n",
    "ansat_images = glob.glob(os.path.join(original_dataset_dir, 'ansat', '*.jpg'))\n",
    "ka226t_images = glob.glob(os.path.join(original_dataset_dir, 'ka-226t', '*.jpg'))\n",
    "ka27_images = glob.glob(os.path.join(original_dataset_dir, 'ka-27', '*.jpg'))\n",
    "ka31_images = glob.glob(os.path.join(original_dataset_dir, 'ka-31', '*.jpg'))\n",
    "ka32a11bc_images = glob.glob(os.path.join(original_dataset_dir, 'ka-32a11bc', '*.jpg'))\n",
    "ka52_images = glob.glob(os.path.join(original_dataset_dir, 'ka-52', '*.jpg'))\n",
    "mi24_images = glob.glob(os.path.join(original_dataset_dir, 'mi-24', '*.jpg'))\n",
    "mi26t_images = glob.glob(os.path.join(original_dataset_dir, 'mi-26t', '*.jpg'))\n",
    "mi28n_images = glob.glob(os.path.join(original_dataset_dir, 'mi-28n', '*.jpg'))\n",
    "mi8_images = glob.glob(os.path.join(original_dataset_dir, 'mi-8', '*.jpg'))\n",
    "\n",
    "print(\"shapes for every class: {}\".format((len(ansat_images), len(ka226t_images), len(ka27_images), len(ka31_images), \n",
    "                                           len(ka32a11bc_images), len(ka52_images), len(mi24_images),\n",
    "                                           len(mi26t_images), len(mi28n_images), len(mi8_images))))"
   ]
  },
  {
   "cell_type": "code",
   "execution_count": null,
   "metadata": {},
   "outputs": [],
   "source": []
  }
 ],
 "metadata": {
  "kernelspec": {
   "display_name": "Python 3",
   "language": "python",
   "name": "python3"
  },
  "language_info": {
   "codemirror_mode": {
    "name": "ipython",
    "version": 3
   },
   "file_extension": ".py",
   "mimetype": "text/x-python",
   "name": "python",
   "nbconvert_exporter": "python",
   "pygments_lexer": "ipython3",
   "version": "3.7.4"
  }
 },
 "nbformat": 4,
 "nbformat_minor": 2
}
